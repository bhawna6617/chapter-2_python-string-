{
 "cells": [
  {
   "cell_type": "markdown",
   "id": "ed16d958",
   "metadata": {},
   "source": [
    "# string"
   ]
  },
  {
   "cell_type": "code",
   "execution_count": 1,
   "id": "faaabb46",
   "metadata": {},
   "outputs": [],
   "source": [
    "# string is datattype that stores a sequence of characters.."
   ]
  },
  {
   "cell_type": "code",
   "execution_count": 2,
   "id": "60a06dd1",
   "metadata": {},
   "outputs": [],
   "source": [
    "# str1 = \"this is a string.\"\n",
    "# str2 = 'nandu'\n",
    "# str3 = '''string'''\n",
    "#  st - \"this is a string. we are creating it in python\" escape sequence char\n"
   ]
  },
  {
   "cell_type": "code",
   "execution_count": 5,
   "id": "5b0948c0",
   "metadata": {},
   "outputs": [
    {
     "name": "stdout",
     "output_type": "stream",
     "text": [
      "this is a string. \n",
      "we are creating it in python\n",
      "this is a string. \twe are creating it in python\n"
     ]
    }
   ],
   "source": [
    "st = \"this is a string. \\nwe are creating it in python\"\n",
    "print(st)# /nescape\n",
    "st = \"this is a string. \\twe are creating it in python\"\n",
    "print(st) # /t it provide tab space\n"
   ]
  },
  {
   "cell_type": "markdown",
   "id": "b95a1a93",
   "metadata": {},
   "source": [
    "# basic operation"
   ]
  },
  {
   "cell_type": "code",
   "execution_count": 6,
   "id": "73456381",
   "metadata": {},
   "outputs": [
    {
     "name": "stdout",
     "output_type": "stream",
     "text": [
      "nandusharma\n"
     ]
    }
   ],
   "source": [
    "# 1. Concatenation :- for example\n",
    "a=\"nandu\"\n",
    "b=\"sharma\"\n",
    "c=a+b\n",
    "print(c)"
   ]
  },
  {
   "cell_type": "code",
   "execution_count": 8,
   "id": "c6cb177a",
   "metadata": {},
   "outputs": [
    {
     "name": "stdout",
     "output_type": "stream",
     "text": [
      "5\n",
      "nandu sharma\n",
      "12\n"
     ]
    }
   ],
   "source": [
    "# 2. len of  str\n",
    "s =\"nandu\"\n",
    "print(len(s))\n",
    "\n",
    "# other example\n",
    "a= \"nandu\"\n",
    "b=\"sharma\"\n",
    "c=a+ \" \"+b\n",
    "print(c)\n",
    "print(len(c))"
   ]
  },
  {
   "cell_type": "code",
   "execution_count": 10,
   "id": "59ebb4da",
   "metadata": {},
   "outputs": [
    {
     "name": "stdout",
     "output_type": "stream",
     "text": [
      "a\n"
     ]
    }
   ],
   "source": [
    "# indexing:- [position ] to acces char and doesnot modified\n",
    "a =\"nandu sharma\"\n",
    "b=a[1]\n",
    "print(b)\n",
    "\n"
   ]
  },
  {
   "cell_type": "code",
   "execution_count": 18,
   "id": "17483eab",
   "metadata": {},
   "outputs": [
    {
     "name": "stdout",
     "output_type": "stream",
     "text": [
      "and\n",
      "nandu\n",
      "sharma\n",
      "sharma\n",
      "appl\n"
     ]
    }
   ],
   "source": [
    "# slicing :- accessing parts of a string..\n",
    "# str[starting_index:ending_index] ending index is not included\n",
    "a =\"nandu sharma\"\n",
    "print(a[1:4])\n",
    "print(a[0:5])\n",
    "print(a[6:len(a)])\n",
    "print(a[6:])\n",
    "\n",
    "\n",
    "# 2 case of slicing :using negative index\n",
    "\n",
    "s = \"apple\"\n",
    "print(s[-5:-1])"
   ]
  },
  {
   "cell_type": "markdown",
   "id": "c5552db1",
   "metadata": {},
   "source": [
    " # Function(string)"
   ]
  },
  {
   "cell_type": "code",
   "execution_count": 43,
   "id": "2514e96a",
   "metadata": {},
   "outputs": [
    {
     "name": "stdout",
     "output_type": "stream",
     "text": [
      "True\n",
      "False\n",
      "Nandu\n",
      "nandu\n",
      "Nandu\n",
      "aayu is a bad person\n",
      "8\n",
      "-1\n",
      "1\n"
     ]
    }
   ],
   "source": [
    "# 1. str.endswith(\"er.\")# it return true if string ends with substr.\n",
    "a=\"i am studying python from appnacollage\"\n",
    "print(a.endswith(\"age\"))\n",
    "print(a.endswith(\"app\"))\n",
    "\n",
    "\n",
    "# 2.str.capitalize():-1st char capitalize\n",
    "b=\"nandu\"\n",
    "print(b.capitalize())\n",
    "print(b)# it does not change original str\n",
    "c=b.capitalize()\n",
    "print(c)\n",
    "\n",
    "# 3. str.replace(old,new):- it replace all occurence of old and new\n",
    "s = \"aayu is a great person\"\n",
    "print(s.replace(\"great\",\"bad\"))\n",
    "\n",
    "\n",
    "# 4. str.find(word):- return 1st index of 1st occurence\n",
    "x=\"hello i hope you are fine\"\n",
    "print(x.find(\"hope\"))\n",
    "print(x.find(\"k\"))# because it odes not exist\n",
    "\n",
    "\n",
    "# str.count\n",
    "f = \"i am from  babain\"\n",
    "print(f.count(\"from\"))"
   ]
  },
  {
   "cell_type": "markdown",
   "id": "a211d511",
   "metadata": {},
   "source": [
    "# let's practice"
   ]
  },
  {
   "cell_type": "code",
   "execution_count": 44,
   "id": "76a5c941",
   "metadata": {},
   "outputs": [
    {
     "name": "stdout",
     "output_type": "stream",
     "text": [
      "enter number:-hello\n",
      "5\n"
     ]
    }
   ],
   "source": [
    "# write a programe to input user first name and print its length\n",
    "\n",
    "a= input(\"enter number:-\")\n",
    "print(len(a))"
   ]
  },
  {
   "cell_type": "code",
   "execution_count": 45,
   "id": "90a3bd3e",
   "metadata": {},
   "outputs": [
    {
     "name": "stdout",
     "output_type": "stream",
     "text": [
      "3\n"
     ]
    }
   ],
   "source": [
    "# write a program  to find the occurence of \"$\" in a string..\n",
    "a=\"hii. $ i am the $ symbol $99.99\"\n",
    "print(a.count(\"$\"))"
   ]
  },
  {
   "cell_type": "markdown",
   "id": "2eb79a5c",
   "metadata": {},
   "source": [
    "# conditional statement"
   ]
  },
  {
   "cell_type": "code",
   "execution_count": 3,
   "id": "66e52d57",
   "metadata": {},
   "outputs": [
    {
     "name": "stdout",
     "output_type": "stream",
     "text": [
      "go\n",
      "end of code\n"
     ]
    }
   ],
   "source": [
    "# 1. if - elif - else:-\n",
    "light = \"green\"\n",
    "if(light==\"red\"):\n",
    "    print(\"stop\")\n",
    "elif(light==\"green\"):\n",
    "    print(\"go\")\n",
    "elif(light==\"yellow\"):\n",
    "    print(\"wait\")\n",
    "    \n",
    "print(\"end of code\")"
   ]
  },
  {
   "cell_type": "code",
   "execution_count": 5,
   "id": "367a6232",
   "metadata": {},
   "outputs": [
    {
     "name": "stdout",
     "output_type": "stream",
     "text": [
      "greater than 2\n"
     ]
    }
   ],
   "source": [
    "nu =5\n",
    "if(nu>2):\n",
    "    print(\"greater than 2\")\n",
    "elif(nu>3):\n",
    "    print(\"greater than 3\")# indentation\n"
   ]
  },
  {
   "cell_type": "code",
   "execution_count": 7,
   "id": "06ed7501",
   "metadata": {},
   "outputs": [
    {
     "name": "stdout",
     "output_type": "stream",
     "text": [
      "light is bronken\n",
      "end of code\n"
     ]
    }
   ],
   "source": [
    "light=\"blue\"\n",
    "if(light==\"red\"):\n",
    "    print(\"stop\")\n",
    "elif(light==\"green\"):\n",
    "    print(\"go\")\n",
    "elif(light==\"yellow\"):\n",
    "    print(\"wait\")\n",
    "else:\n",
    "    print(\"light is bronken\")\n",
    "    \n",
    "print(\"end of code\")"
   ]
  },
  {
   "cell_type": "markdown",
   "id": "3491427c",
   "metadata": {},
   "source": [
    "# for example if-elif-else"
   ]
  },
  {
   "cell_type": "code",
   "execution_count": 9,
   "id": "9c405373",
   "metadata": {},
   "outputs": [
    {
     "name": "stdout",
     "output_type": "stream",
     "text": [
      "enter number:-80\n",
      "grade B\n"
     ]
    }
   ],
   "source": [
    "n = int(input(\"enter number:-\"))\n",
    "if(n>=90):\n",
    "    print(\"grade A\")\n",
    "elif(90>n>=80):\n",
    "    print(\"grade B\")\n",
    "elif(80>n>=70):\n",
    "    print(\"grade C\")\n",
    "else:\n",
    "    print(\"grade D\")"
   ]
  },
  {
   "cell_type": "code",
   "execution_count": 11,
   "id": "1720e6ba",
   "metadata": {},
   "outputs": [
    {
     "name": "stdout",
     "output_type": "stream",
     "text": [
      "can drive\n"
     ]
    }
   ],
   "source": [
    "# nesting\n",
    "age = 34\n",
    "if (age>=18):\n",
    "    if(age>=80):\n",
    "        print(\"cannot drive\")\n",
    "    else:\n",
    "        print(\"can drive\")\n",
    "else:\n",
    "    print(\"not drive\")"
   ]
  },
  {
   "cell_type": "markdown",
   "id": "41159ce3",
   "metadata": {},
   "source": [
    "# let's practice"
   ]
  },
  {
   "cell_type": "code",
   "execution_count": 12,
   "id": "047d8359",
   "metadata": {},
   "outputs": [
    {
     "name": "stdout",
     "output_type": "stream",
     "text": [
      "enter number:-3\n",
      "odd number\n"
     ]
    }
   ],
   "source": [
    "# WAP to check if a number entered by the use is odd or even\n",
    "n = int(input(\"enter number:-\"))\n",
    "if (n%2==0):\n",
    "    print(\"even number\")\n",
    "else:\n",
    "    print(\"odd number\")\n"
   ]
  },
  {
   "cell_type": "code",
   "execution_count": 19,
   "id": "65e6e686",
   "metadata": {},
   "outputs": [
    {
     "name": "stdout",
     "output_type": "stream",
     "text": [
      "enter first number :-4\n",
      "enter second number:-5\n",
      "enter third number:-7\n",
      "c is greater\n"
     ]
    }
   ],
   "source": [
    "# WAP to find the greatest of 3 numbers entered bt the user\n",
    "a = int(input(\"enter first number :-\"))\n",
    "b=int(input(\"enter second number:-\"))\n",
    "c=int(input(\"enter third number:-\"))\n",
    "if(a>=b and a>=c):\n",
    "    print(\"a is greater \")\n",
    "elif(b>=c):\n",
    "    print(\"b is greater \")\n",
    "else:\n",
    "    print(\"c is greater\")"
   ]
  },
  {
   "cell_type": "code",
   "execution_count": 23,
   "id": "eb61c559",
   "metadata": {},
   "outputs": [
    {
     "name": "stdout",
     "output_type": "stream",
     "text": [
      "ente number:-21\n",
      "diivide by 7\n"
     ]
    }
   ],
   "source": [
    "# WAP to check if a number is a multiple 7 or not\n",
    "x = int(input(\"ente number:-\"))\n",
    "if(x%7==0):\n",
    "    print(\"diivide by 7\")\n",
    "else:\n",
    "    print(\"not\")\n"
   ]
  },
  {
   "cell_type": "markdown",
   "id": "18fc65ab",
   "metadata": {},
   "source": [
    "# # WAP to find the greatest of 4 numbers entered bt the user"
   ]
  },
  {
   "cell_type": "code",
   "execution_count": 28,
   "id": "33f792bb",
   "metadata": {},
   "outputs": [
    {
     "name": "stdout",
     "output_type": "stream",
     "text": [
      "enter first number :-2\n",
      "enter second number:-8\n",
      "enter third number:-4\n",
      "enter four number:-5\n",
      "b is greater \n"
     ]
    }
   ],
   "source": [
    "a = int(input(\"enter first number :-\"))\n",
    "b=int(input(\"enter second number:-\"))\n",
    "c=int(input(\"enter third number:-\"))\n",
    "d=int(input(\"enter four number:-\"))\n",
    "if(a>=b and a>=c and a>=d):\n",
    "    print(\"a is greater\")\n",
    "elif(b>=c and b>=d):\n",
    "    print(\"b is greater \")\n",
    "elif(c>=d):\n",
    "    print(\"c is greater\")\n",
    "else:\n",
    "    print(\"d is greate\")"
   ]
  },
  {
   "cell_type": "code",
   "execution_count": null,
   "id": "a9cce6d6",
   "metadata": {},
   "outputs": [],
   "source": []
  }
 ],
 "metadata": {
  "kernelspec": {
   "display_name": "Python 3 (ipykernel)",
   "language": "python",
   "name": "python3"
  },
  "language_info": {
   "codemirror_mode": {
    "name": "ipython",
    "version": 3
   },
   "file_extension": ".py",
   "mimetype": "text/x-python",
   "name": "python",
   "nbconvert_exporter": "python",
   "pygments_lexer": "ipython3",
   "version": "3.11.5"
  }
 },
 "nbformat": 4,
 "nbformat_minor": 5
}
